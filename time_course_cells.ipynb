{
 "cells": [
  {
   "cell_type": "code",
   "execution_count": 75,
   "metadata": {},
   "outputs": [],
   "source": [
    "import sys\n",
    "sys.path.append(\"modules/\")\n",
    "\n",
    "import multicellds\n",
    "from matplotlib import pyplot as plt\n",
    "import seaborn as sns\n"
   ]
  },
  {
   "cell_type": "code",
   "execution_count": 79,
   "metadata": {},
   "outputs": [
    {
     "name": "stdout",
     "output_type": "stream",
     "text": [
      "Reading cell_output files from 5 input files from test/\n",
      "\tProcessing time step: 0\n",
      "\tProcessing time step: 60\n",
      "\tProcessing time step: 120\n",
      "\tProcessing time step: 180\n",
      "\tProcessing time step: 240\n"
     ]
    }
   ],
   "source": [
    "output_folder = \"test/\"\n",
    "\n",
    "mcds = multicellds.MultiCellDS(output_folder=output_folder)\n",
    "\n",
    "# PhysiCell/Boss integer codes and the corresponding string the description\n",
    "phases_dict = mcds.phases_dict\n",
    "\n",
    "# The following dict is used to group cell phases into three general classes:\n",
    "# Alive, Apoptotic (programmed cell death), Necrotic (Non-programmed cell death)\n",
    "phase_grouping = mcds.phase_grouping\n",
    "\n",
    "\n",
    "# Just counting the number of files (each one corresponding to a time snapshots)\n",
    "num_of_files = mcds.cells_file_count()\n",
    "\n",
    "# Initializing a Pandas Databrafe to store the data\n",
    "columns = [\"Time\", \"Alive\", \"Apoptotic\", \"Necrotic\"]\n",
    "data = np.zeros((num_of_files, 4), dtype=int)\n",
    "df_time_course = pd.DataFrame(columns=columns, data=data)\n",
    "\n",
    "print(\"Reading cell_output files from %i input files from %s\" % (num_of_files, output_folder))\n",
    "# Iterating over all cell_output files\n",
    "\n",
    "phase_col = \"current_phase\"\n",
    "\n",
    "for i, (t, df) in enumerate(mcds.cells_as_frames_iterator()):\n",
    "    print(\"\\tProcessing time step: %.0f\" % t)\n",
    "\n",
    "    time = int(np.ceil(t))\n",
    "\n",
    "    # Rename the phases integer codes using the phases_dict as the mapping\n",
    "    s = df[phase_col]\n",
    "    s.replace(to_replace=mcds.phases_dict, value=None, inplace=True)\n",
    "\n",
    "    # Count the number of cells in each phase\n",
    "    counts = s.value_counts()\n",
    "\n",
    "    df_time_course.iat[i, 0] = time\n",
    "    # group the previous phases count into the three general classes:\n",
    "    # Alive, Apoptotic, Necrotic\n",
    "    for k, v in counts.to_dict().items():\n",
    "        if k not in mcds.phase_grouping:\n",
    "            continue\n",
    "        df_time_course.loc[i, mcds.phase_grouping[k]] += v\n",
    "\n",
    "# Set time column as the dataframe index\n",
    "df_time_course.set_index(\"Time\", inplace=True)"
   ]
  },
  {
   "cell_type": "code",
   "execution_count": null,
   "metadata": {},
   "outputs": [],
   "source": [
    "print(\"Creating figure\")\n",
    "# Create a figure\n",
    "fig, ax = plt.subplots(1, 1, figsize=(6,4), dpi=150)\n",
    "\n",
    "# plot Alive vs Time\n",
    "ax.plot(df_time_course.index, df_time_course.Alive, \"-\", c=\"g\", label=\"alive\")\n",
    "\n",
    "# plot Necrotic vs Time\n",
    "ax.plot(df_time_course.index, df_time_course.Necrotic, \"-\", c=\"k\", label=\"necrotic\")\n",
    "\n",
    "# plot Apoptotic vs Time\n",
    "ax.plot(df_time_course.index, df_time_course.Apoptotic, \"-\", c=\"r\", label=\"apoptotic\")\n",
    "\n",
    "# setting axes labels\n",
    "ax.set_xlabel(\"time (min)\")\n",
    "ax.set_ylabel(\"Nº of cells\")\n",
    "\n",
    "# Showing legend\n",
    "ax.legend()\n",
    "ax.grid(True)\n",
    "\n",
    "sns.despine()\n",
    "fig.tight_layout()"
   ]
  }
 ],
 "metadata": {
  "kernelspec": {
   "display_name": "Python 3",
   "language": "python",
   "name": "python3"
  },
  "language_info": {
   "codemirror_mode": {
    "name": "ipython",
    "version": 3
   },
   "file_extension": ".py",
   "mimetype": "text/x-python",
   "name": "python",
   "nbconvert_exporter": "python",
   "pygments_lexer": "ipython3",
   "version": "3.6.9"
  }
 },
 "nbformat": 4,
 "nbformat_minor": 4
}
